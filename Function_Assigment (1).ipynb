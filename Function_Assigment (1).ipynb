{
  "nbformat": 4,
  "nbformat_minor": 0,
  "metadata": {
    "colab": {
      "provenance": []
    },
    "kernelspec": {
      "name": "python3",
      "display_name": "Python 3"
    },
    "language_info": {
      "name": "python"
    }
  },
  "cells": [
    {
      "cell_type": "markdown",
      "source": [
        "# **FUNCTIONS ASSIGNMENT**"
      ],
      "metadata": {
        "id": "VTt-1dCX-1dq"
      }
    },
    {
      "cell_type": "markdown",
      "source": [
        "# **Q1.**   What is the difference between a function and a method in Python?\n",
        "\n",
        "# **Ans** -   In Python, a function is a block of reusable code defined using def and can be called independently. A method is a function associated with an object and called on that object (e.g., list.append()). Methods implicitly pass the instance (self) as their first argument.\n",
        "\n",
        "\n",
        "\n",
        "\n",
        "\n",
        "\n",
        "\n",
        "\n"
      ],
      "metadata": {
        "id": "Z76SGTkO_Ggi"
      }
    },
    {
      "cell_type": "code",
      "source": [
        "def greet(name):  # Function\n",
        "    return f\"Hello, {name}!\"\n",
        "\n",
        "class Person:\n",
        "    def __init__(self, name):\n",
        "        self.name = name\n",
        "\n",
        "    def greet(self):  # Method\n",
        "        return f\"Hello, {self.name}!\"\n",
        "\n",
        "# Usage\n",
        "print(greet(\"Alice\"))  # Function call\n",
        "person = Person(\"Bob\")\n",
        "print(person.greet())  # Method call\n"
      ],
      "metadata": {
        "colab": {
          "base_uri": "https://localhost:8080/"
        },
        "id": "sdGaPu9oBb_n",
        "outputId": "051b7ee6-1ba5-4063-df7a-9bf73fadd168"
      },
      "execution_count": null,
      "outputs": [
        {
          "output_type": "stream",
          "name": "stdout",
          "text": [
            "Hello, Alice!\n",
            "Hello, Bob!\n"
          ]
        }
      ]
    },
    {
      "cell_type": "markdown",
      "source": [
        "# **Q2.**  **Explain the concept of function arguments and parameters in Python**\n",
        "\n",
        "\n",
        "# **Ans** - In Python, parameters are variables listed in a function’s definition, while arguments are the actual values passed to the function during a call. Parameters act as placeholders for arguments. Python supports various argument types: positional, keyword, default, and variable-length (*args, **kwargs)."
      ],
      "metadata": {
        "id": "Lkm3W6RRARtx"
      }
    },
    {
      "cell_type": "code",
      "source": [
        "def greet(name, message=\"Hello\"):  # Parameters\n",
        "    print(f\"{message}, {name}!\")\n",
        "\n",
        "greet(\"Alice\")  # Arguments: \"Alice\" (positional)\n",
        "greet(\"Bob\", message=\"Hi\")  # Keyword argument\n"
      ],
      "metadata": {
        "colab": {
          "base_uri": "https://localhost:8080/"
        },
        "id": "GAg7zY-yc3aq",
        "outputId": "84aa1591-0bba-4993-ff45-be337ba13715"
      },
      "execution_count": null,
      "outputs": [
        {
          "output_type": "stream",
          "name": "stdout",
          "text": [
            "Hello, Alice!\n",
            "Hi, Bob!\n"
          ]
        }
      ]
    },
    {
      "cell_type": "markdown",
      "source": [
        "# **Q3. What are the different ways to define and call a function in Python?**"
      ],
      "metadata": {
        "id": "kD9-kZkveL0w"
      }
    },
    {
      "cell_type": "markdown",
      "source": [
        "#Ans- In Python, functions are defined using the def keyword, followed by the function name and parentheses enclosing any parameters. The function body is indented beneath the definition. To call a function, simply use its name followed by parentheses, including arguments if required.\n",
        "\n",
        "Example of a simple function definition and call:\n",
        "\n"
      ],
      "metadata": {
        "id": "0LhaFMBWedwS"
      }
    },
    {
      "cell_type": "code",
      "source": [
        "def greet(name):\n",
        "    return f\"Hello, {name}!\"\n",
        "\n",
        "print(greet(\"Alice\"))\n"
      ],
      "metadata": {
        "colab": {
          "base_uri": "https://localhost:8080/"
        },
        "id": "Ce_8_A9De5We",
        "outputId": "0061b1a4-a996-4c36-a54f-7fa4ffbbb9a2"
      },
      "execution_count": null,
      "outputs": [
        {
          "output_type": "stream",
          "name": "stdout",
          "text": [
            "Hello, Alice!\n"
          ]
        }
      ]
    },
    {
      "cell_type": "markdown",
      "source": [
        "Python also supports anonymous functions, known as lambda functions, which are defined using the lambda keyword. These are typically used for short, simple operations.\n",
        "\n",
        "Example of a lambda function"
      ],
      "metadata": {
        "id": "7HefBYHJfq-z"
      }
    },
    {
      "cell_type": "code",
      "source": [
        "add = lambda x, y: x + y\n",
        "print(add(3, 5))\n"
      ],
      "metadata": {
        "colab": {
          "base_uri": "https://localhost:8080/"
        },
        "id": "eL0USQlffyx8",
        "outputId": "9bf57bb7-b80c-4066-80b6-2310f4c3546a"
      },
      "execution_count": null,
      "outputs": [
        {
          "output_type": "stream",
          "name": "stdout",
          "text": [
            "8\n"
          ]
        }
      ]
    },
    {
      "cell_type": "markdown",
      "source": [
        "Additionally, functions can be called before their definitions due to Python's late binding behavior, meaning the function's existence is verified only when it's called.\n",
        "\n",
        "\n",
        "Example:"
      ],
      "metadata": {
        "id": "XJmLK1c7f-jK"
      }
    },
    {
      "cell_type": "code",
      "source": [
        "def increment_5():\n",
        "    disp_result(5)\n",
        "\n",
        "def disp_result(num):\n",
        "    print(f\"5 was increased by {num}!\")\n",
        "\n",
        "increment_5()\n"
      ],
      "metadata": {
        "colab": {
          "base_uri": "https://localhost:8080/"
        },
        "id": "Q0wqABUIgLqB",
        "outputId": "ef925a5d-3c97-448b-98a4-ccd01b8c9912"
      },
      "execution_count": null,
      "outputs": [
        {
          "output_type": "stream",
          "name": "stdout",
          "text": [
            "5 was increased by 5!\n"
          ]
        }
      ]
    },
    {
      "cell_type": "markdown",
      "source": [
        "# **Q4. What is the purpose of the `return` statement in a Python function?**"
      ],
      "metadata": {
        "id": "08b70VhZga0Q"
      }
    },
    {
      "cell_type": "markdown",
      "source": [
        "Ans- In Python, the return statement concludes a function's execution and sends a value back to the caller, enabling the function to produce an output usable elsewhere in the code. If omitted, the function returns None by default."
      ],
      "metadata": {
        "id": "c_IgZOWsg3vT"
      }
    },
    {
      "cell_type": "code",
      "source": [
        "def add(a, b):\n",
        "    return a + b\n",
        "\n",
        "result = add(3, 5)\n",
        "print(result)\n"
      ],
      "metadata": {
        "colab": {
          "base_uri": "https://localhost:8080/"
        },
        "id": "A4HVr1C0gk8_",
        "outputId": "44bda711-cfb3-49fa-a943-143508fe6e32"
      },
      "execution_count": null,
      "outputs": [
        {
          "output_type": "stream",
          "name": "stdout",
          "text": [
            "8\n"
          ]
        }
      ]
    },
    {
      "cell_type": "markdown",
      "source": [
        "Q5."
      ],
      "metadata": {
        "id": "sqXhxZT0hN3N"
      }
    },
    {
      "cell_type": "markdown",
      "source": [
        "Ans- In Python, iterables are objects capable of returning their members one at a time, allowing them to be looped over. Common examples include lists, tuples, dictionaries, and strings. These objects implement the __iter__() method, which returns an iterator.\n",
        "\n",
        "Iterators are objects that keep track of their current position during iteration and return the next item upon request. They implement both the __iter__() and __next__() methods. The __next__() method retrieves the next item in the sequence, raising a StopIteration exception when there are no more items to return."
      ],
      "metadata": {
        "id": "cPC0KlYniFcG"
      }
    },
    {
      "cell_type": "code",
      "source": [
        "# Iterable\n",
        "fruits = ['apple', 'banana', 'cherry']\n",
        "\n",
        "# Obtaining an iterator from the iterable\n",
        "fruit_iterator = iter(fruits)\n",
        "\n",
        "# Iterating using the iterator\n",
        "print(next(fruit_iterator))\n",
        "print(next(fruit_iterator))\n",
        "print(next(fruit_iterator))\n"
      ],
      "metadata": {
        "colab": {
          "base_uri": "https://localhost:8080/"
        },
        "id": "5eCVwNPGibsC",
        "outputId": "660a5e16-24ab-4d86-ead6-bcefb59b79f5"
      },
      "execution_count": null,
      "outputs": [
        {
          "output_type": "stream",
          "name": "stdout",
          "text": [
            "apple\n",
            "banana\n",
            "cherry\n"
          ]
        }
      ]
    },
    {
      "cell_type": "markdown",
      "source": [
        "In this example, fruits is an iterable, and fruit_iterator is an iterator obtained from it. Using the next() function, we retrieve each item sequentially.\n",
        "\n",
        "Understanding the distinction between iterables and iterators is crucial for efficient looping and data processing in Python."
      ],
      "metadata": {
        "id": "JGrp3maOi2Ut"
      }
    },
    {
      "cell_type": "markdown",
      "source": [
        "# **Q6.  Explain the concept of generators in Python and how they are defined.**"
      ],
      "metadata": {
        "id": "aq0r-P6xi_Ed"
      }
    },
    {
      "cell_type": "markdown",
      "source": [
        "Ans- Generators in Python are a way to create iterators using functions with the yield keyword. Unlike normal functions, generators maintain their state between calls, allowing them to produce values lazily, saving memory. They are defined using def and yield instead of return."
      ],
      "metadata": {
        "id": "A6udhAtzkfgK"
      }
    },
    {
      "cell_type": "code",
      "source": [
        "def count_up(n):\n",
        "    for i in range(n):\n",
        "        yield i\n",
        "\n",
        "gen = count_up(4)\n",
        "print(next(gen))\n",
        "print(next(gen))\n",
        "print(next(gen))\n",
        "print(next(gen))\n"
      ],
      "metadata": {
        "colab": {
          "base_uri": "https://localhost:8080/"
        },
        "id": "57fZEzrU3wue",
        "outputId": "7bd9fa8e-f134-4ee5-8f60-b015566e32ea"
      },
      "execution_count": null,
      "outputs": [
        {
          "output_type": "stream",
          "name": "stdout",
          "text": [
            "0\n",
            "1\n",
            "2\n",
            "3\n"
          ]
        }
      ]
    },
    {
      "cell_type": "markdown",
      "source": [
        "# **Q7.  What are the advantages of using generators over regular functions?**"
      ],
      "metadata": {
        "id": "tAzixz804R78"
      }
    },
    {
      "cell_type": "markdown",
      "source": [
        "Ans- Generators in Python provide several advantages over regular functions, especially when working with large datasets or streams of data. Here are some key benefits:\n",
        "\n",
        "Memory Efficiency:\n",
        "Generators yield one value at a time instead of storing all values in memory, making them ideal for large datasets."
      ],
      "metadata": {
        "id": "mde_HYm-4ciJ"
      }
    },
    {
      "cell_type": "code",
      "source": [
        "def count_up(n):\n",
        "    for i in range(n):\n",
        "        yield i  # No large list stored in memory\n",
        "\n",
        "gen = count_up(1000000)  # Efficiently iterates without using much memory\n"
      ],
      "metadata": {
        "id": "kgd2DCoP5FQp"
      },
      "execution_count": null,
      "outputs": []
    },
    {
      "cell_type": "markdown",
      "source": [
        "Lazy Evaluation:\n",
        "Values are generated on demand, improving performance and responsiveness in real-time applications."
      ],
      "metadata": {
        "id": "TdsFhIuy5SoN"
      }
    },
    {
      "cell_type": "code",
      "source": [
        "def infinite_counter():\n",
        "    n = 0\n",
        "    while True:\n",
        "        yield n\n",
        "        n += 1\n",
        "\n",
        "gen = infinite_counter()\n",
        "print(next(gen))\n",
        "print(next(gen))\n",
        "print(next(gen))\n",
        "print(next(gen))\n",
        "print(next(gen))\n",
        "print(next(gen))"
      ],
      "metadata": {
        "colab": {
          "base_uri": "https://localhost:8080/"
        },
        "id": "0kjCj-Z15UaR",
        "outputId": "37aedb9b-4a69-493d-867e-966b6e209955"
      },
      "execution_count": null,
      "outputs": [
        {
          "output_type": "stream",
          "name": "stdout",
          "text": [
            "0\n",
            "1\n",
            "2\n",
            "3\n",
            "4\n",
            "5\n"
          ]
        }
      ]
    },
    {
      "cell_type": "markdown",
      "source": [
        "Improved Performance:\n",
        "Generators avoid the overhead of function calls and list creation, making loops faster.\n",
        "\n",
        "State Retention:\n",
        "Generators maintain their execution state between calls, eliminating the need for complex state management.\n",
        "\n",
        "Overall, generators enhance efficiency and simplify code structure in Python."
      ],
      "metadata": {
        "id": "fsfmc0zX76-e"
      }
    },
    {
      "cell_type": "markdown",
      "source": [
        "# **Q8. What is a lambda function in Python and when is it typically used?**"
      ],
      "metadata": {
        "id": "NNdNWOa351MN"
      }
    },
    {
      "cell_type": "markdown",
      "source": [
        "Ans- A lambda function in Python is an anonymous, single-expression function defined using the lambda keyword. It is typically used for short, simple operations where defining a full function is unnecessary. Lambda functions are commonly used in functional programming, sorting, filtering, and map-reduce operations.\n",
        "\n",
        "Basic Usage"
      ],
      "metadata": {
        "id": "CwnSWWis8Wep"
      }
    },
    {
      "cell_type": "code",
      "source": [
        "square = lambda x: x * x\n",
        "print(square(5))\n"
      ],
      "metadata": {
        "colab": {
          "base_uri": "https://localhost:8080/"
        },
        "id": "cHykg7Ej8c30",
        "outputId": "a9a93a2f-89f7-46c3-8cb5-7a0e241b2cc3"
      },
      "execution_count": null,
      "outputs": [
        {
          "output_type": "stream",
          "name": "stdout",
          "text": [
            "25\n"
          ]
        }
      ]
    },
    {
      "cell_type": "markdown",
      "source": [
        "Sorting with lambda"
      ],
      "metadata": {
        "id": "50K_QQU3Brxi"
      }
    },
    {
      "cell_type": "code",
      "source": [
        "pairs = [(2, 3), (1, 4), (3, 2)]\n",
        "pairs.sort(key=lambda x: x[1])\n",
        "print(pairs)"
      ],
      "metadata": {
        "colab": {
          "base_uri": "https://localhost:8080/"
        },
        "id": "cIG7aB3vB10D",
        "outputId": "bee0d47b-62d8-4644-9e27-fce1cd2884b2"
      },
      "execution_count": null,
      "outputs": [
        {
          "output_type": "stream",
          "name": "stdout",
          "text": [
            "[(3, 2), (2, 3), (1, 4)]\n"
          ]
        }
      ]
    },
    {
      "cell_type": "markdown",
      "source": [
        "# **Q9.Explain the purpose and usage of the `map()` function in Python**"
      ],
      "metadata": {
        "id": "8JlY1QUPCDEm"
      }
    },
    {
      "cell_type": "markdown",
      "source": [
        "Ans- The map() function in Python applies a given function to each item in an iterable (e.g., list, tuple) and returns a map object (an iterator). It is useful for transforming data without explicit loops.\n",
        "\n",
        "Purpose & Usage:   \n",
        "Efficiently applies a function to all elements.       \n",
        "Saves memory by returning an iterator."
      ],
      "metadata": {
        "id": "zFIWANDZCpQh"
      }
    },
    {
      "cell_type": "code",
      "source": [
        "numbers = [1, 2, 3, 4]\n",
        "squared = map(lambda x: x ** 2, numbers)\n",
        "print(list(squared))\n"
      ],
      "metadata": {
        "colab": {
          "base_uri": "https://localhost:8080/"
        },
        "id": "-rXvCUy8Cxgu",
        "outputId": "244502cd-ed0f-40d2-8b48-6fe6e01f14ca"
      },
      "execution_count": null,
      "outputs": [
        {
          "output_type": "stream",
          "name": "stdout",
          "text": [
            "[1, 4, 9, 16]\n"
          ]
        }
      ]
    },
    {
      "cell_type": "markdown",
      "source": [
        "# **Q10.  What is the difference between `map()`, `reduce()`, and `filter()` functions in Python?**"
      ],
      "metadata": {
        "id": "56-blV5QDG8e"
      }
    },
    {
      "cell_type": "markdown",
      "source": [
        "Ans- The map(), reduce(), and filter() functions in Python are used for functional programming, but they serve different purposes:\n",
        "\n",
        "map(function, iterable) – Applies a function to each element and returns an iterator\n"
      ],
      "metadata": {
        "id": "0NeENxohDkIZ"
      }
    },
    {
      "cell_type": "code",
      "source": [
        "numbers = [1, 2, 3, 4]\n",
        "squared = map(lambda x: x ** 2, numbers)\n",
        "print(list(squared))\n"
      ],
      "metadata": {
        "colab": {
          "base_uri": "https://localhost:8080/"
        },
        "id": "_KQHqSaSFGRU",
        "outputId": "2dda6fde-c7a2-4d84-b24c-eb33750f2526"
      },
      "execution_count": null,
      "outputs": [
        {
          "output_type": "stream",
          "name": "stdout",
          "text": [
            "[1, 4, 9, 16]\n"
          ]
        }
      ]
    },
    {
      "cell_type": "markdown",
      "source": [
        "Q11."
      ],
      "metadata": {
        "id": "ibllUnP0FQ2t"
      }
    },
    {
      "cell_type": "markdown",
      "source": [
        "# **PRACTICAL QUESTIONS**"
      ],
      "metadata": {
        "id": "HiVtrXH5FcFM"
      }
    },
    {
      "cell_type": "markdown",
      "source": [
        "# Q1.  **Write a Python function that takes a list of numbers as input and returns the sum of all even numbers in the list**\n",
        "\n",
        "\n"
      ],
      "metadata": {
        "id": "R9GgEeieFpV0"
      }
    },
    {
      "cell_type": "code",
      "source": [
        "def sum_of_evens(numbers):\n",
        "    return sum(num for num in numbers if num % 2 == 0)\n",
        "\n",
        "# Example usage\n",
        "numbers = [1, 2, 3, 4, 5, 6]\n",
        "print(sum_of_evens(numbers))\n"
      ],
      "metadata": {
        "colab": {
          "base_uri": "https://localhost:8080/"
        },
        "id": "xy1feFzVKG5d",
        "outputId": "c02af93e-c992-4040-c5a6-489c1956f169"
      },
      "execution_count": null,
      "outputs": [
        {
          "output_type": "stream",
          "name": "stdout",
          "text": [
            "12\n"
          ]
        }
      ]
    },
    {
      "cell_type": "markdown",
      "source": [
        "# **Q2.Create a Python function that accepts a string and returns the reverse of that string.**"
      ],
      "metadata": {
        "id": "IR9VxST7KMLZ"
      }
    },
    {
      "cell_type": "code",
      "source": [
        "def reverse_string(s):\n",
        "    return s[::-1]  # Slicing method to reverse the string\n",
        "\n",
        "# Example usage\n",
        "text = \"hello\"\n",
        "print(reverse_string(text))\n"
      ],
      "metadata": {
        "colab": {
          "base_uri": "https://localhost:8080/"
        },
        "id": "ibSsSd3vKXu_",
        "outputId": "daa5c31f-fbee-4385-81de-8a7f6fb8c1b7"
      },
      "execution_count": null,
      "outputs": [
        {
          "output_type": "stream",
          "name": "stdout",
          "text": [
            "olleh\n"
          ]
        }
      ]
    },
    {
      "cell_type": "markdown",
      "source": [
        "# **Q3. Implement a Python function that takes a list of integers and returns a new list containing the squares of each number**\n"
      ],
      "metadata": {
        "id": "cfKoFR6FKmbe"
      }
    },
    {
      "cell_type": "code",
      "source": [
        "def square_numbers(numbers):\n",
        "    return [num ** 2 for num in numbers]\n",
        "\n",
        "# Example usage:\n",
        "nums = [1, 2, 3, 4, 5]\n",
        "print(square_numbers(nums))\n"
      ],
      "metadata": {
        "colab": {
          "base_uri": "https://localhost:8080/"
        },
        "id": "0o3Rcc6FKEp-",
        "outputId": "58694845-241b-4535-b5f1-1368c31daf66"
      },
      "execution_count": null,
      "outputs": [
        {
          "output_type": "stream",
          "name": "stdout",
          "text": [
            "[1, 4, 9, 16, 25]\n"
          ]
        }
      ]
    },
    {
      "cell_type": "markdown",
      "source": [
        "# **Q4. Write a Python function that checks if a given number is prime or not from 1 to 200.**"
      ],
      "metadata": {
        "id": "9py77xanKbuT"
      }
    },
    {
      "cell_type": "code",
      "source": [
        "def is_prime(n):\n",
        "    if n < 2:\n",
        "        return False\n",
        "    for i in range(2, int(n ** 0.5) + 1):\n",
        "        if n % i == 0:\n",
        "            return False\n",
        "    return True\n",
        "\n",
        "# Example usage:\n",
        "for num in range(1, 201):\n",
        "    if is_prime(num):\n",
        "        print(num, \"is a prime number\")\n"
      ],
      "metadata": {
        "colab": {
          "base_uri": "https://localhost:8080/"
        },
        "id": "TWZLIbI1KpB0",
        "outputId": "de12cdb3-c555-492d-8795-5da40b99d877"
      },
      "execution_count": null,
      "outputs": [
        {
          "output_type": "stream",
          "name": "stdout",
          "text": [
            "2 is a prime number\n",
            "3 is a prime number\n",
            "5 is a prime number\n",
            "7 is a prime number\n",
            "11 is a prime number\n",
            "13 is a prime number\n",
            "17 is a prime number\n",
            "19 is a prime number\n",
            "23 is a prime number\n",
            "29 is a prime number\n",
            "31 is a prime number\n",
            "37 is a prime number\n",
            "41 is a prime number\n",
            "43 is a prime number\n",
            "47 is a prime number\n",
            "53 is a prime number\n",
            "59 is a prime number\n",
            "61 is a prime number\n",
            "67 is a prime number\n",
            "71 is a prime number\n",
            "73 is a prime number\n",
            "79 is a prime number\n",
            "83 is a prime number\n",
            "89 is a prime number\n",
            "97 is a prime number\n",
            "101 is a prime number\n",
            "103 is a prime number\n",
            "107 is a prime number\n",
            "109 is a prime number\n",
            "113 is a prime number\n",
            "127 is a prime number\n",
            "131 is a prime number\n",
            "137 is a prime number\n",
            "139 is a prime number\n",
            "149 is a prime number\n",
            "151 is a prime number\n",
            "157 is a prime number\n",
            "163 is a prime number\n",
            "167 is a prime number\n",
            "173 is a prime number\n",
            "179 is a prime number\n",
            "181 is a prime number\n",
            "191 is a prime number\n",
            "193 is a prime number\n",
            "197 is a prime number\n",
            "199 is a prime number\n"
          ]
        }
      ]
    },
    {
      "cell_type": "markdown",
      "source": [
        "# **Q5. Create an iterator class in Python that generates the Fibonacci sequence up to a specified number of terms**\n",
        "\n"
      ],
      "metadata": {
        "id": "zqQIMAxQK0MQ"
      }
    },
    {
      "cell_type": "code",
      "source": [
        "class FibonacciIterator:\n",
        "    def __init__(self, n_terms):\n",
        "        self.n_terms = n_terms\n",
        "        self.count = 0\n",
        "        self.a, self.b = 0, 1\n",
        "\n",
        "    def __iter__(self):\n",
        "        return self\n",
        "\n",
        "    def __next__(self):\n",
        "        if self.count >= self.n_terms:\n",
        "            raise StopIteration\n",
        "        if self.count == 0:\n",
        "            self.count += 1\n",
        "            return self.a\n",
        "        elif self.count == 1:\n",
        "            self.count += 1\n",
        "            return self.b\n",
        "\n",
        "        self.a, self.b = self.b, self.a + self.b\n",
        "        self.count += 1\n",
        "        return self.b\n",
        "\n",
        "# Example usage:\n",
        "fib = FibonacciIterator(10)\n",
        "for num in fib:\n",
        "    print(num, end=\" \")\n"
      ],
      "metadata": {
        "colab": {
          "base_uri": "https://localhost:8080/"
        },
        "id": "pgcDFEGBLUhG",
        "outputId": "5a0d2842-e910-40d6-aa97-0e081ca04746"
      },
      "execution_count": null,
      "outputs": [
        {
          "output_type": "stream",
          "name": "stdout",
          "text": [
            "0 1 1 2 3 5 8 13 21 34 "
          ]
        }
      ]
    },
    {
      "cell_type": "markdown",
      "source": [
        "# **Q6.  Write a generator function in Python that yields the powers of 2 up to a given exponent.**"
      ],
      "metadata": {
        "id": "eAUS8fV1LoYb"
      }
    },
    {
      "cell_type": "code",
      "source": [
        "def powers_of_two(max_exponent):\n",
        "    for exponent in range(max_exponent + 1):\n",
        "        yield 2 ** exponent\n",
        "\n",
        "# Example usage:\n",
        "for power in powers_of_two(5):\n",
        "    print(power, end=\" \")\n"
      ],
      "metadata": {
        "colab": {
          "base_uri": "https://localhost:8080/"
        },
        "id": "TIataOEHL2td",
        "outputId": "e393ecca-341d-4597-848e-b48f71d6aa47"
      },
      "execution_count": null,
      "outputs": [
        {
          "output_type": "stream",
          "name": "stdout",
          "text": [
            "1 2 4 8 16 32 "
          ]
        }
      ]
    },
    {
      "cell_type": "markdown",
      "source": [
        "# **Q7. Implement a generator function that reads a file line by line and yields each line as a string.Implement a generator function that reads a file line by line and yields each line as a string.**"
      ],
      "metadata": {
        "id": "RhaWs_rqN58z"
      }
    },
    {
      "cell_type": "code",
      "source": [
        "def read_file_line_by_line(file_path):\n",
        "    \"\"\"Reads a file line by line and yields each line as a string.\n",
        "    \"\"\"\n",
        "    try:\n",
        "        with open(file_path, 'r', encoding='utf-8') as file:\n",
        "            for line in file:\n",
        "                yield line.strip()  s\n",
        "    except FileNotFoundError:\n",
        "        print(f\"Error: File not found at path: {file_path}\")\n",
        "\n",
        "        return []\n",
        "\n",
        "\n",
        "# Example usage:\n",
        "\n",
        "file_path = 'example.txt'\n",
        "with open(file_path, 'w') as f:\n",
        "    f.write('This is the first line.\\nThis is the second line.')\n",
        "\n",
        "for line in read_file_line_by_line(file_path):\n",
        "    print(line)"
      ],
      "metadata": {
        "colab": {
          "base_uri": "https://localhost:8080/"
        },
        "id": "BfTRZrLYOsb3",
        "outputId": "cd6e83cb-48cc-46c7-ec38-5b357903587a"
      },
      "execution_count": null,
      "outputs": [
        {
          "output_type": "stream",
          "name": "stdout",
          "text": [
            "This is the first line.\n",
            "This is the second line.\n"
          ]
        }
      ]
    },
    {
      "cell_type": "markdown",
      "source": [
        "# **Q8. Use a lambda function in Python to sort a list of tuples based on the second element of each tuple.**"
      ],
      "metadata": {
        "id": "FVEqH2jxPS49"
      }
    },
    {
      "cell_type": "code",
      "source": [
        "# List of tuples\n",
        "data = [(1, 3), (4, 1), (2, 5), (3, 2)]\n",
        "\n",
        "# Sorting based on the second element of each tuple\n",
        "sorted_data = sorted(data, key=lambda x: x[1])\n",
        "\n",
        "# Output the result\n",
        "print(sorted_data)"
      ],
      "metadata": {
        "colab": {
          "base_uri": "https://localhost:8080/"
        },
        "id": "V9ivafZUt8Gp",
        "outputId": "72acde53-c411-4bf5-d4c2-eaddf25482bf"
      },
      "execution_count": null,
      "outputs": [
        {
          "output_type": "stream",
          "name": "stdout",
          "text": [
            "[(4, 1), (3, 2), (1, 3), (2, 5)]\n"
          ]
        }
      ]
    },
    {
      "cell_type": "markdown",
      "source": [
        "Q9.Write a Python program that uses `map()` to convert a list of temperatures from Celsius to Fahrenheit."
      ],
      "metadata": {
        "id": "LCAjCNXjuG8v"
      }
    },
    {
      "cell_type": "code",
      "source": [
        "# Function to convert Celsius to Fahrenheit\n",
        "c_to_f = lambda c: (c * 9/5) + 32\n",
        "\n",
        "# List of temperatures in Celsius\n",
        "celsius_temps = [0, 10, 20, 30, 40, 100]\n",
        "\n",
        "# Convert to Fahrenheit using map()\n",
        "fahrenheit_temps = list(map(c_to_f, celsius_temps))\n",
        "\n",
        "# Output the result\n",
        "print(f\"Temperatures in Fahrenheit: {fahrenheit_temps}\")"
      ],
      "metadata": {
        "colab": {
          "base_uri": "https://localhost:8080/"
        },
        "id": "nUHxSRSTueqe",
        "outputId": "0539efbb-c32b-40d4-8108-67013a75b81f"
      },
      "execution_count": null,
      "outputs": [
        {
          "output_type": "stream",
          "name": "stdout",
          "text": [
            "Temperatures in Fahrenheit: [32.0, 50.0, 68.0, 86.0, 104.0, 212.0]\n"
          ]
        }
      ]
    },
    {
      "cell_type": "markdown",
      "source": [
        "# **Q10.Create a Python program that uses `filter()` to remove all the vowels from a given string.**"
      ],
      "metadata": {
        "id": "Ogjdx0DEurqD"
      }
    },
    {
      "cell_type": "code",
      "source": [
        "# Function to check if a character is not a vowel\n",
        "is_consonant = lambda char: char.lower() not in 'aeiou'\n",
        "\n",
        "# Input string\n",
        "text = \"Hello, how are you doing today?\"\n",
        "\n",
        "# Use filter() to remove vowels\n",
        "filtered_text = ''.join(filter(is_consonant, text))\n",
        "\n",
        "# Output the result\n",
        "print(f\"String without vowels: {filtered_text}\")"
      ],
      "metadata": {
        "colab": {
          "base_uri": "https://localhost:8080/"
        },
        "id": "USjqGcTcu-pg",
        "outputId": "e5afc43a-1b0a-4e4a-d874-09051e685e9d"
      },
      "execution_count": null,
      "outputs": [
        {
          "output_type": "stream",
          "name": "stdout",
          "text": [
            "String without vowels: Hll, hw r y dng tdy?\n"
          ]
        }
      ]
    },
    {
      "cell_type": "markdown",
      "source": [
        "# Q11. Imagine an accounting routine used in a book shop. It works on a list with sublists, which look like this:\n",
        "\n",
        "order no      book title       author        quantity  Price per item\n",
        "34587         learning Python   Mark lutz     4       40.95\n",
        "98762         programming python Mark lutz    5       56.80\n",
        "77226         head first python   paul berry   3      32.95\n",
        "88112         Enfuhrung in python3 Bernd klen   3     24.99\n",
        "\n",
        "Write a Python program, which returns a list with 2-tuples. Each tuple consists of the order number and the\n",
        "product of the price per item and the quantity. The product should be increased by 10,- € if the value of the\n",
        "# order is smaller than 100,00 €."
      ],
      "metadata": {
        "id": "WCS_dQkQM2tu"
      }
    },
    {
      "cell_type": "code",
      "source": [
        "# List of orders\n",
        "orders = [\n",
        "    ['34587', 'Learning Python', 'Mark Lutz', 4, 40.95],\n",
        "    ['98762', 'Programming Python', 'Mark Lutz', 5, 56.80],\n",
        "    ['77226', 'Head First Python', 'Paul Barry', 3, 32.95],\n",
        "    ['88112', 'Einführung in Python3', 'Bernd Klein', 3, 24.99]\n",
        "]\n",
        "\n",
        "# Function to process orders\n",
        "def process_orders(order_list):\n",
        "    processed_orders = []\n",
        "    for order in order_list:\n",
        "        order_num = order[0]\n",
        "        quantity = order[3]\n",
        "        price_per_item = order[4]\n",
        "        total_value = price_per_item * quantity\n",
        "        if total_value < 100:\n",
        "            total_value += 10  # Apply surcharge\n",
        "        processed_orders.append((order_num, total_value))\n",
        "    return processed_orders\n",
        "\n",
        "# Process the orders\n",
        "processed_orders = process_orders(orders)\n",
        "\n",
        "# Output the processed orders\n",
        "for order in processed_orders:\n",
        "    print(f\"Order Number: {order[0]}, Total Value: €{order[1]:.2f}\")\n"
      ],
      "metadata": {
        "colab": {
          "base_uri": "https://localhost:8080/"
        },
        "id": "XLAH573NNldm",
        "outputId": "256b0f3b-88c5-4f08-b843-efb4b6a897eb"
      },
      "execution_count": null,
      "outputs": [
        {
          "output_type": "stream",
          "name": "stdout",
          "text": [
            "Order Number: 34587, Total Value: €163.80\n",
            "Order Number: 98762, Total Value: €284.00\n",
            "Order Number: 77226, Total Value: €108.85\n",
            "Order Number: 88112, Total Value: €84.97\n"
          ]
        }
      ]
    },
    {
      "cell_type": "markdown",
      "source": [
        "# **Write a Python program using lambda and map**"
      ],
      "metadata": {
        "id": "0pzDijqndmJ5"
      }
    },
    {
      "cell_type": "code",
      "source": [
        "# Define a list of numbers\n",
        "numbers = [1, 2, 3, 4, 5]\n",
        "\n",
        "# Use map with lambda to square each number\n",
        "squared_numbers = list(map(lambda x: x ** 2, numbers))\n",
        "\n",
        "# Print the result\n",
        "print(\"Original numbers:\", numbers)\n",
        "print(\"Squared numbers:\", squared_numbers)\n"
      ],
      "metadata": {
        "id": "txo0GdJ1T2IT",
        "colab": {
          "base_uri": "https://localhost:8080/"
        },
        "outputId": "8e22c5bf-3854-41e7-be90-bdf038de7fb3"
      },
      "execution_count": 1,
      "outputs": [
        {
          "output_type": "stream",
          "name": "stdout",
          "text": [
            "Original numbers: [1, 2, 3, 4, 5]\n",
            "Squared numbers: [1, 4, 9, 16, 25]\n"
          ]
        }
      ]
    }
  ]
}